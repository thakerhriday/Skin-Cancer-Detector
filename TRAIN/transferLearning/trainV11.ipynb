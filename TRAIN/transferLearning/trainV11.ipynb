{
 "cells": [
  {
   "cell_type": "code",
   "execution_count": 1,
   "metadata": {},
   "outputs": [],
   "source": [
    "import pandas as pd\n",
    "import torch\n",
    "import torch.nn as nn\n",
    "import torch.optim as optim\n",
    "from torch.utils.data import DataLoader, TensorDataset\n",
    "from torchvision import models, transforms\n",
    "from PIL import Image\n"
   ]
  },
  {
   "cell_type": "code",
   "execution_count": 2,
   "metadata": {},
   "outputs": [
    {
     "data": {
      "text/plain": [
       "(10772, 2)"
      ]
     },
     "execution_count": 2,
     "metadata": {},
     "output_type": "execute_result"
    }
   ],
   "source": [
    "train_df = pd.read_csv('C:\\\\IDL_project\\\\final_train_data.csv')\n",
    "test_df = pd.read_csv('C:\\\\IDL_project\\\\final_test_data.csv')\n",
    "\n",
    "train_df.shape"
   ]
  },
  {
   "cell_type": "code",
   "execution_count": 3,
   "metadata": {},
   "outputs": [
    {
     "data": {
      "text/plain": [
       "(8012, 2)"
      ]
     },
     "execution_count": 3,
     "metadata": {},
     "output_type": "execute_result"
    }
   ],
   "source": [
    "train_df = train_df[~train_df['ImagePath'].str.endswith(('aug.jpg', '_aug2.jpg', '_aug1.jpg', 'aug3.jpg', 'aug4.jpg'))]\n",
    "train_df.shape"
   ]
  },
  {
   "cell_type": "code",
   "execution_count": 4,
   "metadata": {},
   "outputs": [
    {
     "data": {
      "text/plain": [
       "(10015, 2)"
      ]
     },
     "execution_count": 4,
     "metadata": {},
     "output_type": "execute_result"
    }
   ],
   "source": [
    "combined_df = pd.concat([train_df, test_df], ignore_index=True)\n",
    "combined_df.shape"
   ]
  },
  {
   "cell_type": "code",
   "execution_count": 5,
   "metadata": {},
   "outputs": [
    {
     "data": {
      "text/plain": [
       "BinaryType\n",
       "0    8061\n",
       "1    1954\n",
       "Name: count, dtype: int64"
      ]
     },
     "execution_count": 5,
     "metadata": {},
     "output_type": "execute_result"
    }
   ],
   "source": [
    "combined_df.value_counts('BinaryType')"
   ]
  },
  {
   "cell_type": "code",
   "execution_count": 6,
   "metadata": {},
   "outputs": [
    {
     "data": {
      "text/plain": [
       "(16605, 2)"
      ]
     },
     "execution_count": 6,
     "metadata": {},
     "output_type": "execute_result"
    }
   ],
   "source": [
    "import os\n",
    "from matplotlib.pylab import shuffle\n",
    "import pandas as pd\n",
    "malignant_dir = 'C:\\\\IDL_project\\\\Dataset\\\\Malignant'\n",
    "\n",
    "image_paths = [os.path.join(malignant_dir, fname) for fname in os.listdir(malignant_dir)\n",
    "               if fname.lower().endswith(('.jpg'))]\n",
    "\n",
    "# Create DataFrame\n",
    "malignant_df = pd.DataFrame({\n",
    "    'ImagePath': image_paths,\n",
    "    'BinaryType': 1\n",
    "})\n",
    "\n",
    "combined_df = pd.concat([combined_df, malignant_df], ignore_index=True)\n",
    "\n",
    "# Shuffle the combined DataFrame\n",
    "combined_df = combined_df.sample(frac=1, random_state=None).reset_index(drop=True)\n",
    "combined_df.shape"
   ]
  },
  {
   "cell_type": "code",
   "execution_count": 7,
   "metadata": {},
   "outputs": [
    {
     "name": "stdout",
     "output_type": "stream",
     "text": [
      "BinaryType\n",
      "1    8544\n",
      "0    8061\n",
      "Name: count, dtype: int64\n"
     ]
    }
   ],
   "source": [
    "from sklearn.model_selection import train_test_split\n",
    "\n",
    "# Check class distribution\n",
    "print(combined_df['BinaryType'].value_counts())\n",
    "\n",
    "# Stratified split: 80% train, 20% test\n",
    "train_df, test_df = train_test_split(\n",
    "    combined_df,\n",
    "    test_size=0.2,\n",
    "    stratify=combined_df['BinaryType'],\n",
    "    random_state=42  # for reproducibility\n",
    ")"
   ]
  },
  {
   "cell_type": "code",
   "execution_count": 8,
   "metadata": {},
   "outputs": [
    {
     "name": "stdout",
     "output_type": "stream",
     "text": [
      "BinaryType\n",
      "1    6835\n",
      "0    6449\n",
      "Name: count, dtype: int64\n",
      "BinaryType\n",
      "1    1709\n",
      "0    1612\n",
      "Name: count, dtype: int64\n"
     ]
    }
   ],
   "source": [
    "print(train_df['BinaryType'].value_counts())\n",
    "print(test_df['BinaryType'].value_counts())"
   ]
  },
  {
   "cell_type": "code",
   "execution_count": 9,
   "metadata": {},
   "outputs": [],
   "source": [
    "import torchvision.transforms as transforms\n",
    "import torch\n",
    "transform_train = transforms.Compose([\n",
    "    transforms.Resize((256, 256)),                # Resize to slightly larger\n",
    "    transforms.RandomCrop(224),                   # Random crop to target size\n",
    "    transforms.RandomHorizontalFlip(p=0.5),       # Flip images for invariance\n",
    "    transforms.RandomRotation(degrees=15),        # Small rotations\n",
    "    transforms.ColorJitter(                       # Change brightness/contrast\n",
    "        brightness=0.2,\n",
    "        contrast=0.2,\n",
    "        saturation=0.2,\n",
    "        hue=0.1\n",
    "    ),\n",
    "    transforms.ToTensor(),\n",
    "    transforms.Normalize(mean=[0.485, 0.456, 0.406], \n",
    "                         std=[0.229, 0.224, 0.225])\n",
    "])\n",
    "\n",
    "transform_val = transforms.Compose([\n",
    "    transforms.Resize((224, 224)),               # No crop or flip for val/test\n",
    "    transforms.ToTensor(),\n",
    "    transforms.Normalize(mean=[0.485, 0.456, 0.406], \n",
    "                         std=[0.229, 0.224, 0.225])\n",
    "])"
   ]
  },
  {
   "cell_type": "code",
   "execution_count": 10,
   "metadata": {},
   "outputs": [],
   "source": [
    "# Load images and apply transformations (No Dataset class needed)\n",
    "#train_images = torch.stack([transform_train(Image.open(p).convert('RGB')) for p in train_df['ImagePath'].tolist()])\n",
    "#test_images = torch.stack([transform_val(Image.open(p).convert('RGB')) for p in test_df['ImagePath'].tolist()])\n",
    "\n",
    "#import torch\n",
    "\n",
    "# Save tensors\n",
    "#torch.save(train_images, 'train_images.pt')\n",
    "#torch.save(test_images, 'test_images.pt')\n",
    "\n"
   ]
  },
  {
   "cell_type": "code",
   "execution_count": 11,
   "metadata": {},
   "outputs": [],
   "source": [
    "train_images = torch.load('train_images.pt')\n",
    "test_images = torch.load('test_images.pt')\n",
    "\n",
    "# Convert labels to tensors\n",
    "train_labels = torch.tensor(train_df['BinaryType'].values, dtype=torch.long)\n",
    "test_labels = torch.tensor(test_df['BinaryType'].values, dtype=torch.long)\n",
    "\n",
    "# Create TensorDatasets\n",
    "train_dataset = TensorDataset(train_images, train_labels)\n",
    "test_dataset = TensorDataset(test_images, test_labels)\n",
    "\n",
    "# Dataloaders\n",
    "train_loader = DataLoader(train_dataset, batch_size=32, shuffle=True)\n",
    "test_loader = DataLoader(test_dataset, batch_size=32, shuffle=False)\n",
    "\n",
    "device = torch.device('cuda' if torch.cuda.is_available() else 'cpu')"
   ]
  },
  {
   "cell_type": "code",
   "execution_count": 12,
   "metadata": {},
   "outputs": [
    {
     "name": "stderr",
     "output_type": "stream",
     "text": [
      "c:\\Users\\ishaa\\anaconda3\\Lib\\site-packages\\torchvision\\models\\_utils.py:208: UserWarning: The parameter 'pretrained' is deprecated since 0.13 and may be removed in the future, please use 'weights' instead.\n",
      "  warnings.warn(\n",
      "c:\\Users\\ishaa\\anaconda3\\Lib\\site-packages\\torchvision\\models\\_utils.py:223: UserWarning: Arguments other than a weight enum or `None` for 'weights' are deprecated since 0.13 and may be removed in the future. The current behavior is equivalent to passing `weights=ResNet18_Weights.IMAGENET1K_V1`. You can also use `weights=ResNet18_Weights.DEFAULT` to get the most up-to-date weights.\n",
      "  warnings.warn(msg)\n"
     ]
    }
   ],
   "source": [
    "model = models.resnet18(pretrained=True)\n",
    "\n",
    "# Modify the classifier for binary classification (0/1)\n",
    "model.fc = nn.Linear(model.fc.in_features, 2)\n",
    "\n",
    "model = model.to(device)"
   ]
  },
  {
   "cell_type": "code",
   "execution_count": 13,
   "metadata": {},
   "outputs": [
    {
     "name": "stdout",
     "output_type": "stream",
     "text": [
      "tensor([1.0269, 0.9746], device='cuda:0')\n"
     ]
    }
   ],
   "source": [
    "from sklearn.utils.class_weight import compute_class_weight\n",
    "import numpy as np\n",
    "import torch\n",
    "\n",
    "labels = train_df['BinaryType'].values  # Should be 0 and 1\n",
    "class_weights = compute_class_weight(class_weight='balanced',\n",
    "                                     classes=np.unique(labels),\n",
    "                                     y=labels)\n",
    "\n",
    "alpha = 0.9  # Between 0 (no balancing) and 1 (fully balanced)\n",
    "soft_weights = (1 - alpha) * np.ones_like(class_weights) + alpha * class_weights\n",
    "\n",
    "class_weights_tensor = torch.tensor(soft_weights, dtype=torch.float).to(device)\n",
    "print(class_weights_tensor)"
   ]
  },
  {
   "cell_type": "code",
   "execution_count": 14,
   "metadata": {},
   "outputs": [],
   "source": [
    "criterion = torch.nn.CrossEntropyLoss(weight=class_weights_tensor, label_smoothing=0.2)\n",
    "optimizer = optim.AdamW(model.fc.parameters(), lr=0.00005, weight_decay=0.0001)\n",
    "scheduler = torch.optim.lr_scheduler.ReduceLROnPlateau(optimizer, mode='min', patience=2, factor=0.5)"
   ]
  },
  {
   "cell_type": "code",
   "execution_count": 15,
   "metadata": {},
   "outputs": [
    {
     "name": "stdout",
     "output_type": "stream",
     "text": [
      "\n",
      "Epoch 1/20\n"
     ]
    },
    {
     "name": "stderr",
     "output_type": "stream",
     "text": [
      "Training: 100%|██████████| 416/416 [00:24<00:00, 17.05it/s]\n",
      "Testing: 100%|██████████| 104/104 [00:01<00:00, 52.27it/s]\n"
     ]
    },
    {
     "name": "stdout",
     "output_type": "stream",
     "text": [
      "Train Loss: 0.6455 | Train Acc: 0.6581\n",
      " Test Loss: 0.6000 |  Test Acc: 0.7353\n",
      "Saved new best model with Test Acc: 0.7353\n",
      "\n",
      "Epoch 2/20\n"
     ]
    },
    {
     "name": "stderr",
     "output_type": "stream",
     "text": [
      "Training: 100%|██████████| 416/416 [00:23<00:00, 17.61it/s]\n",
      "Testing: 100%|██████████| 104/104 [00:01<00:00, 52.31it/s]\n"
     ]
    },
    {
     "name": "stdout",
     "output_type": "stream",
     "text": [
      "Train Loss: 0.5571 | Train Acc: 0.7870\n",
      " Test Loss: 0.5393 |  Test Acc: 0.8133\n",
      "Saved new best model with Test Acc: 0.8133\n",
      "\n",
      "Epoch 3/20\n"
     ]
    },
    {
     "name": "stderr",
     "output_type": "stream",
     "text": [
      "Training: 100%|██████████| 416/416 [00:23<00:00, 17.57it/s]\n",
      "Testing: 100%|██████████| 104/104 [00:01<00:00, 52.26it/s]\n"
     ]
    },
    {
     "name": "stdout",
     "output_type": "stream",
     "text": [
      "Train Loss: 0.5271 | Train Acc: 0.8187\n",
      " Test Loss: 0.5149 |  Test Acc: 0.8329\n",
      "Saved new best model with Test Acc: 0.8329\n",
      "\n",
      "Epoch 4/20\n"
     ]
    },
    {
     "name": "stderr",
     "output_type": "stream",
     "text": [
      "Training: 100%|██████████| 416/416 [00:23<00:00, 17.48it/s]\n",
      "Testing: 100%|██████████| 104/104 [00:01<00:00, 52.53it/s]\n"
     ]
    },
    {
     "name": "stdout",
     "output_type": "stream",
     "text": [
      "Train Loss: 0.5074 | Train Acc: 0.8412\n",
      " Test Loss: 0.4943 |  Test Acc: 0.8503\n",
      "Saved new best model with Test Acc: 0.8503\n",
      "\n",
      "Epoch 5/20\n"
     ]
    },
    {
     "name": "stderr",
     "output_type": "stream",
     "text": [
      "Training: 100%|██████████| 416/416 [00:23<00:00, 17.59it/s]\n",
      "Testing: 100%|██████████| 104/104 [00:01<00:00, 53.09it/s]\n"
     ]
    },
    {
     "name": "stdout",
     "output_type": "stream",
     "text": [
      "Train Loss: 0.4991 | Train Acc: 0.8456\n",
      " Test Loss: 0.4836 |  Test Acc: 0.8654\n",
      "Saved new best model with Test Acc: 0.8654\n",
      "\n",
      "Epoch 6/20\n"
     ]
    },
    {
     "name": "stderr",
     "output_type": "stream",
     "text": [
      "Training: 100%|██████████| 416/416 [00:23<00:00, 17.65it/s]\n",
      "Testing: 100%|██████████| 104/104 [00:01<00:00, 52.57it/s]\n"
     ]
    },
    {
     "name": "stdout",
     "output_type": "stream",
     "text": [
      "Train Loss: 0.4943 | Train Acc: 0.8508\n",
      " Test Loss: 0.4895 |  Test Acc: 0.8594\n",
      "\n",
      "Epoch 7/20\n"
     ]
    },
    {
     "name": "stderr",
     "output_type": "stream",
     "text": [
      "Training: 100%|██████████| 416/416 [00:23<00:00, 17.65it/s]\n",
      "Testing: 100%|██████████| 104/104 [00:01<00:00, 53.22it/s]\n"
     ]
    },
    {
     "name": "stdout",
     "output_type": "stream",
     "text": [
      "Train Loss: 0.4874 | Train Acc: 0.8597\n",
      " Test Loss: 0.4832 |  Test Acc: 0.8669\n",
      "Saved new best model with Test Acc: 0.8669\n",
      "\n",
      "Epoch 8/20\n"
     ]
    },
    {
     "name": "stderr",
     "output_type": "stream",
     "text": [
      "Training: 100%|██████████| 416/416 [00:23<00:00, 17.62it/s]\n",
      "Testing: 100%|██████████| 104/104 [00:01<00:00, 52.82it/s]\n"
     ]
    },
    {
     "name": "stdout",
     "output_type": "stream",
     "text": [
      "Train Loss: 0.4820 | Train Acc: 0.8619\n",
      " Test Loss: 0.4812 |  Test Acc: 0.8672\n",
      "Saved new best model with Test Acc: 0.8672\n",
      "\n",
      "Epoch 9/20\n"
     ]
    },
    {
     "name": "stderr",
     "output_type": "stream",
     "text": [
      "Training: 100%|██████████| 416/416 [00:23<00:00, 17.65it/s]\n",
      "Testing: 100%|██████████| 104/104 [00:01<00:00, 53.00it/s]\n"
     ]
    },
    {
     "name": "stdout",
     "output_type": "stream",
     "text": [
      "Train Loss: 0.4833 | Train Acc: 0.8614\n",
      " Test Loss: 0.4797 |  Test Acc: 0.8714\n",
      "Saved new best model with Test Acc: 0.8714\n",
      "\n",
      "Epoch 10/20\n"
     ]
    },
    {
     "name": "stderr",
     "output_type": "stream",
     "text": [
      "Training: 100%|██████████| 416/416 [00:23<00:00, 17.65it/s]\n",
      "Testing: 100%|██████████| 104/104 [00:01<00:00, 52.85it/s]\n"
     ]
    },
    {
     "name": "stdout",
     "output_type": "stream",
     "text": [
      "Train Loss: 0.4795 | Train Acc: 0.8659\n",
      " Test Loss: 0.4809 |  Test Acc: 0.8714\n",
      "\n",
      "Epoch 11/20\n"
     ]
    },
    {
     "name": "stderr",
     "output_type": "stream",
     "text": [
      "Training: 100%|██████████| 416/416 [00:23<00:00, 17.60it/s]\n",
      "Testing: 100%|██████████| 104/104 [00:01<00:00, 52.65it/s]\n"
     ]
    },
    {
     "name": "stdout",
     "output_type": "stream",
     "text": [
      "Train Loss: 0.4775 | Train Acc: 0.8701\n",
      " Test Loss: 0.4757 |  Test Acc: 0.8753\n",
      "Saved new best model with Test Acc: 0.8753\n",
      "\n",
      "Epoch 12/20\n"
     ]
    },
    {
     "name": "stderr",
     "output_type": "stream",
     "text": [
      "Training: 100%|██████████| 416/416 [00:23<00:00, 17.63it/s]\n",
      "Testing: 100%|██████████| 104/104 [00:01<00:00, 52.74it/s]\n"
     ]
    },
    {
     "name": "stdout",
     "output_type": "stream",
     "text": [
      "Train Loss: 0.4761 | Train Acc: 0.8675\n",
      " Test Loss: 0.4682 |  Test Acc: 0.8844\n",
      "Saved new best model with Test Acc: 0.8844\n",
      "\n",
      "Epoch 13/20\n"
     ]
    },
    {
     "name": "stderr",
     "output_type": "stream",
     "text": [
      "Training: 100%|██████████| 416/416 [00:23<00:00, 17.65it/s]\n",
      "Testing: 100%|██████████| 104/104 [00:01<00:00, 52.87it/s]\n"
     ]
    },
    {
     "name": "stdout",
     "output_type": "stream",
     "text": [
      "Train Loss: 0.4759 | Train Acc: 0.8719\n",
      " Test Loss: 0.4799 |  Test Acc: 0.8717\n",
      "\n",
      "Epoch 14/20\n"
     ]
    },
    {
     "name": "stderr",
     "output_type": "stream",
     "text": [
      "Training: 100%|██████████| 416/416 [00:23<00:00, 17.67it/s]\n",
      "Testing: 100%|██████████| 104/104 [00:01<00:00, 53.06it/s]\n"
     ]
    },
    {
     "name": "stdout",
     "output_type": "stream",
     "text": [
      "Train Loss: 0.4751 | Train Acc: 0.8724\n",
      " Test Loss: 0.4735 |  Test Acc: 0.8805\n",
      "\n",
      "Epoch 15/20\n"
     ]
    },
    {
     "name": "stderr",
     "output_type": "stream",
     "text": [
      "Training: 100%|██████████| 416/416 [00:23<00:00, 17.61it/s]\n",
      "Testing: 100%|██████████| 104/104 [00:01<00:00, 52.76it/s]\n"
     ]
    },
    {
     "name": "stdout",
     "output_type": "stream",
     "text": [
      "Train Loss: 0.4727 | Train Acc: 0.8745\n",
      " Test Loss: 0.4629 |  Test Acc: 0.8901\n",
      "Saved new best model with Test Acc: 0.8901\n",
      "\n",
      "Epoch 16/20\n"
     ]
    },
    {
     "name": "stderr",
     "output_type": "stream",
     "text": [
      "Training: 100%|██████████| 416/416 [00:23<00:00, 17.59it/s]\n",
      "Testing: 100%|██████████| 104/104 [00:01<00:00, 52.78it/s]\n"
     ]
    },
    {
     "name": "stdout",
     "output_type": "stream",
     "text": [
      "Train Loss: 0.4716 | Train Acc: 0.8756\n",
      " Test Loss: 0.4828 |  Test Acc: 0.8711\n",
      "\n",
      "Epoch 17/20\n"
     ]
    },
    {
     "name": "stderr",
     "output_type": "stream",
     "text": [
      "Training: 100%|██████████| 416/416 [00:23<00:00, 17.65it/s]\n",
      "Testing: 100%|██████████| 104/104 [00:02<00:00, 51.79it/s]\n"
     ]
    },
    {
     "name": "stdout",
     "output_type": "stream",
     "text": [
      "Train Loss: 0.4726 | Train Acc: 0.8725\n",
      " Test Loss: 0.4731 |  Test Acc: 0.8796\n",
      "\n",
      "Epoch 18/20\n"
     ]
    },
    {
     "name": "stderr",
     "output_type": "stream",
     "text": [
      "Training: 100%|██████████| 416/416 [00:23<00:00, 17.65it/s]\n",
      "Testing: 100%|██████████| 104/104 [00:01<00:00, 52.69it/s]\n"
     ]
    },
    {
     "name": "stdout",
     "output_type": "stream",
     "text": [
      "Train Loss: 0.4720 | Train Acc: 0.8742\n",
      " Test Loss: 0.4692 |  Test Acc: 0.8859\n",
      "\n",
      "Epoch 19/20\n"
     ]
    },
    {
     "name": "stderr",
     "output_type": "stream",
     "text": [
      "Training: 100%|██████████| 416/416 [00:23<00:00, 17.66it/s]\n",
      "Testing: 100%|██████████| 104/104 [00:01<00:00, 52.85it/s]\n"
     ]
    },
    {
     "name": "stdout",
     "output_type": "stream",
     "text": [
      "Train Loss: 0.4700 | Train Acc: 0.8764\n",
      " Test Loss: 0.4763 |  Test Acc: 0.8808\n",
      "\n",
      "Epoch 20/20\n"
     ]
    },
    {
     "name": "stderr",
     "output_type": "stream",
     "text": [
      "Training: 100%|██████████| 416/416 [00:23<00:00, 17.62it/s]\n",
      "Testing: 100%|██████████| 104/104 [00:01<00:00, 53.12it/s]"
     ]
    },
    {
     "name": "stdout",
     "output_type": "stream",
     "text": [
      "Train Loss: 0.4714 | Train Acc: 0.8760\n",
      " Test Loss: 0.4975 |  Test Acc: 0.8609\n"
     ]
    },
    {
     "name": "stderr",
     "output_type": "stream",
     "text": [
      "\n"
     ]
    }
   ],
   "source": [
    "from tqdm import tqdm\n",
    "\n",
    "# Lists to save metrics\n",
    "train_losses, test_losses = [], []\n",
    "train_accuracies, test_accuracies = [], []\n",
    "best_acc = 0.0\n",
    "\n",
    "num_epochs = 20\n",
    "\n",
    "for epoch in range(num_epochs):\n",
    "    print(f\"\\nEpoch {epoch+1}/{num_epochs}\")\n",
    "\n",
    "    # ---------- TRAIN ----------\n",
    "    model.train()\n",
    "    running_loss, correct = 0.0, 0\n",
    "\n",
    "    for inputs, labels in tqdm(train_loader, desc=\"Training\"):\n",
    "        inputs, labels = inputs.to(device), labels.to(device)\n",
    "        optimizer.zero_grad()\n",
    "\n",
    "        outputs = model(inputs)\n",
    "        loss = criterion(outputs, labels)\n",
    "        loss.backward()\n",
    "        optimizer.step()\n",
    "\n",
    "        running_loss += loss.item() * inputs.size(0)\n",
    "        correct += (outputs.argmax(1) == labels).sum().item()\n",
    "\n",
    "    avg_train_loss = running_loss / len(train_loader.dataset)\n",
    "    train_acc = correct / len(train_loader.dataset)\n",
    "\n",
    "    train_losses.append(avg_train_loss)\n",
    "    train_accuracies.append(train_acc)\n",
    "\n",
    "    # ---------- EVAL ----------\n",
    "    model.eval()\n",
    "    test_loss, test_correct = 0.0, 0\n",
    "\n",
    "    with torch.no_grad():\n",
    "        for inputs, labels in tqdm(test_loader, desc=\"Testing\"):\n",
    "            inputs, labels = inputs.to(device), labels.to(device)\n",
    "            outputs = model(inputs)\n",
    "            loss = criterion(outputs, labels)\n",
    "\n",
    "            test_loss += loss.item() * inputs.size(0)\n",
    "            test_correct += (outputs.argmax(1) == labels).sum().item()\n",
    "\n",
    "    avg_test_loss = test_loss / len(test_loader.dataset)\n",
    "    test_acc = test_correct / len(test_loader.dataset)\n",
    "    scheduler.step(test_loss)\n",
    "\n",
    "    test_losses.append(avg_test_loss)\n",
    "    test_accuracies.append(test_acc)\n",
    "\n",
    "    # ---------- LOG ----------\n",
    "    print(f\"Train Loss: {avg_train_loss:.4f} | Train Acc: {train_acc:.4f}\")\n",
    "    print(f\" Test Loss: {avg_test_loss:.4f} |  Test Acc: {test_acc:.4f}\")\n",
    "\n",
    "\n",
    "    if test_acc > best_acc:\n",
    "        best_acc = test_acc\n",
    "        torch.save(model.state_dict(), f\"C:\\\\IDL_project\\\\BestModel\\\\BestModel9\\\\best_model.pt\")\n",
    "        print(f\"Saved new best model with Test Acc: {test_acc:.4f}\")\n"
   ]
  },
  {
   "cell_type": "code",
   "execution_count": 16,
   "metadata": {},
   "outputs": [
    {
     "data": {
      "image/png": "[encoded data removed]",
      "text/plain": [
       "<Figure size 1400x500 with 2 Axes>"
      ]
     },
     "metadata": {},
     "output_type": "display_data"
    }
   ],
   "source": [
    "import matplotlib.pyplot as plt\n",
    "\n",
    "# Plotting training and testing loss\n",
    "plt.figure(figsize=(14, 5))\n",
    "\n",
    "# Loss Plot\n",
    "plt.subplot(1, 2, 1)\n",
    "plt.plot(train_losses, label='Train Loss', marker='o')\n",
    "plt.plot(test_losses, label='Test Loss', marker='o')\n",
    "plt.title('Loss over Epochs')\n",
    "plt.xlabel('Epoch')\n",
    "plt.ylabel('Loss')\n",
    "plt.legend()\n",
    "plt.grid(True)\n",
    "\n",
    "# Accuracy Plot\n",
    "plt.subplot(1, 2, 2)\n",
    "plt.plot(train_accuracies, label='Train Accuracy', marker='o')\n",
    "plt.plot(test_accuracies, label='Test Accuracy', marker='o')\n",
    "plt.title('Accuracy over Epochs')\n",
    "plt.xlabel('Epoch')\n",
    "plt.ylabel('Accuracy')\n",
    "plt.legend()\n",
    "plt.grid(True)\n",
    "\n",
    "plt.tight_layout()\n",
    "plt.show()\n"
   ]
  },
  {
   "cell_type": "code",
   "execution_count": 17,
   "metadata": {},
   "outputs": [
    {
     "data": {
      "image/png": "[encoded data removed]",
      "text/plain": [
       "<Figure size 640x480 with 2 Axes>"
      ]
     },
     "metadata": {},
     "output_type": "display_data"
    }
   ],
   "source": [
    "from sklearn.metrics import confusion_matrix, ConfusionMatrixDisplay\n",
    "import matplotlib.pyplot as plt\n",
    "import torch\n",
    "\n",
    "# Set model to evaluation mode\n",
    "model.eval()\n",
    "\n",
    "all_preds = []\n",
    "all_labels = []\n",
    "\n",
    "with torch.no_grad():\n",
    "    for inputs, labels in test_loader:\n",
    "        inputs, labels = inputs.to(device), labels.to(device)\n",
    "        outputs = model(inputs)\n",
    "        preds = outputs.argmax(1)\n",
    "\n",
    "        all_preds.extend(preds.cpu().numpy())\n",
    "        all_labels.extend(labels.cpu().numpy())\n",
    "\n",
    "# Compute confusion matrix\n",
    "cm = confusion_matrix(all_labels, all_preds)\n",
    "\n",
    "# Optional: define class names\n",
    "class_names = ['Class 0', 'Class 1']\n",
    "\n",
    "# Plot confusion matrix\n",
    "disp = ConfusionMatrixDisplay(confusion_matrix=cm, display_labels=class_names)\n",
    "disp.plot(cmap='Blues', values_format='d')\n",
    "\n",
    "plt.title(\"Confusion Matrix\")\n",
    "plt.xlabel(\"Predicted Label\")\n",
    "plt.ylabel(\"True Label\")\n",
    "plt.tight_layout()\n",
    "plt.show()"
   ]
  }
 ],
 "metadata": {
  "kernelspec": {
   "display_name": "base",
   "language": "python",
   "name": "python3"
  },
  "language_info": {
   "codemirror_mode": {
    "name": "ipython",
    "version": 3
   },
   "file_extension": ".py",
   "mimetype": "text/x-python",
   "name": "python",
   "nbconvert_exporter": "python",
   "pygments_lexer": "ipython3",
   "version": "3.12.3"
  }
 },
 "nbformat": 4,
 "nbformat_minor": 2
}
