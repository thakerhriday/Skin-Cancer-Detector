{
 "cells": [
  {
   "cell_type": "code",
   "execution_count": 31,
   "metadata": {},
   "outputs": [],
   "source": [
    "# this is the training model script\n",
    "import pandas as pd"
   ]
  },
  {
   "cell_type": "code",
   "execution_count": 32,
   "metadata": {},
   "outputs": [],
   "source": [
    "path = \"E:\\Brain_Tumor_Classification\\Skin-Cancer-Detector\"\n",
    "\n",
    "df = pd.read_csv('final_train_data_model_training.csv')"
   ]
  },
  {
   "cell_type": "code",
   "execution_count": 33,
   "metadata": {},
   "outputs": [],
   "source": [
    "t = list(df['ImagePath'])\n",
    "pt1 = []\n",
    "\n",
    "# t[0].replace(t[0][0:t[0].find(\"Dataset\")], path)\n",
    "\n",
    "\n",
    "# subpath = t[0][t[0].find(\"Dataset\") - 1: ]\n",
    "# t[0] = path + subpath\n",
    "\n",
    "for i in range(len(t)):\n",
    "    t[i].replace(t[i][0:t[i].find(\"Dataset\")], path)\n",
    "    subpath = t[i][t[i].find(\"Dataset\") - 1: ]\n",
    "    t[i] = path + subpath\n",
    "    df.loc[i, 'ImagePath'] = t[i]\n",
    "\n",
    "df.to_csv('final_train_data_model_training.csv', index=False)\n",
    "\n"
   ]
  },
  {
   "cell_type": "code",
   "execution_count": null,
   "metadata": {},
   "outputs": [],
   "source": [
    "# starting to train the model using tf\n",
    "from tensorflow.keras import datasets, layers, models\n",
    "import matplotlib.pyplot as plt"
   ]
  }
 ],
 "metadata": {
  "kernelspec": {
   "display_name": "Python 3",
   "language": "python",
   "name": "python3"
  },
  "language_info": {
   "codemirror_mode": {
    "name": "ipython",
    "version": 3
   },
   "file_extension": ".py",
   "mimetype": "text/x-python",
   "name": "python",
   "nbconvert_exporter": "python",
   "pygments_lexer": "ipython3",
   "version": "3.11.5"
  }
 },
 "nbformat": 4,
 "nbformat_minor": 2
}
