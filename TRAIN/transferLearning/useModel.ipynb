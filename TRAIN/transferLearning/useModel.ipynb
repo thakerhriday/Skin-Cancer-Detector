{
 "cells": [
  {
   "cell_type": "code",
   "execution_count": null,
   "id": "ca3a83ec",
   "metadata": {},
   "outputs": [
    {
     "name": "stdout",
     "output_type": "stream",
     "text": [
      "Predicted class index: 0\n"
     ]
    }
   ],
   "source": [
    "import torch\n",
    "import torchvision.models as models\n",
    "from torchvision import transforms\n",
    "from PIL import Image\n",
    "\n",
    "num_classes = 2\n",
    "\n",
    "# 1. Rebuild the model architecture\n",
    "model = models.resnet18(pretrained=False)\n",
    "model.fc = torch.nn.Linear(model.fc.in_features, num_classes)\n",
    "\n",
    "# 2. Load your saved state_dict\n",
    "\n",
    "\n",
    "model.load_state_dict(torch.load('best_model.pt', map_location=torch.device('cpu')))\n",
    "model.eval()\n",
    "\n",
    "# 3. Image preprocessing\n",
    "transform = transforms.Compose([\n",
    "    transforms.Resize((224, 224)),\n",
    "    transforms.ToTensor(),\n",
    "    transforms.Normalize(mean=[0.485, 0.456, 0.406],\n",
    "                         std=[0.229, 0.224, 0.225])\n",
    "])\n",
    "\n",
    "# 4. Load and prepare your image\n",
    "img = Image.open(\"C:\\\\Users\\\\ishaa\\\\Desktop\\\\AdobeStock_266671269.jpg\").convert('RGB')\n",
    "input_tensor = transform(img).unsqueeze(0)  # Add batch dimension\n",
    "\n",
    "# 5. Inference\n",
    "with torch.no_grad():\n",
    "    output = model(input_tensor)\n",
    "    pred = torch.argmax(output, dim=1)\n",
    "\n",
    "print(\"Predicted class index:\", pred.item())\n"
   ]
  }
 ],
 "metadata": {
  "kernelspec": {
   "display_name": "base",
   "language": "python",
   "name": "python3"
  },
  "language_info": {
   "codemirror_mode": {
    "name": "ipython",
    "version": 3
   },
   "file_extension": ".py",
   "mimetype": "text/x-python",
   "name": "python",
   "nbconvert_exporter": "python",
   "pygments_lexer": "ipython3",
   "version": "3.12.3"
  }
 },
 "nbformat": 4,
 "nbformat_minor": 5
}
