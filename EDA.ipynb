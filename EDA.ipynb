{
 "cells": [
  {
   "cell_type": "code",
   "execution_count": 2,
   "metadata": {},
   "outputs": [],
   "source": [
    "import pandas as pd"
   ]
  },
  {
   "cell_type": "code",
   "execution_count": 3,
   "metadata": {},
   "outputs": [],
   "source": [
    "df = pd.read_csv(\"C:\\\\IDL_project\\\\Dataset\\\\final.csv\")"
   ]
  },
  {
   "cell_type": "code",
   "execution_count": 4,
   "metadata": {},
   "outputs": [
    {
     "data": {
      "text/html": [
       "<div>\n",
       "<style scoped>\n",
       "    .dataframe tbody tr th:only-of-type {\n",
       "        vertical-align: middle;\n",
       "    }\n",
       "\n",
       "    .dataframe tbody tr th {\n",
       "        vertical-align: top;\n",
       "    }\n",
       "\n",
       "    .dataframe thead th {\n",
       "        text-align: right;\n",
       "    }\n",
       "</style>\n",
       "<table border=\"1\" class=\"dataframe\">\n",
       "  <thead>\n",
       "    <tr style=\"text-align: right;\">\n",
       "      <th></th>\n",
       "      <th>ImagePath</th>\n",
       "      <th>Type</th>\n",
       "    </tr>\n",
       "  </thead>\n",
       "  <tbody>\n",
       "    <tr>\n",
       "      <th>0</th>\n",
       "      <td>C:\\IDL_project\\Dataset\\HAM10000_images_part_1\\...</td>\n",
       "      <td>bkl</td>\n",
       "    </tr>\n",
       "    <tr>\n",
       "      <th>1</th>\n",
       "      <td>C:\\IDL_project\\Dataset\\HAM10000_images_part_1\\...</td>\n",
       "      <td>bkl</td>\n",
       "    </tr>\n",
       "    <tr>\n",
       "      <th>2</th>\n",
       "      <td>C:\\IDL_project\\Dataset\\HAM10000_images_part_1\\...</td>\n",
       "      <td>bkl</td>\n",
       "    </tr>\n",
       "    <tr>\n",
       "      <th>3</th>\n",
       "      <td>C:\\IDL_project\\Dataset\\HAM10000_images_part_1\\...</td>\n",
       "      <td>bkl</td>\n",
       "    </tr>\n",
       "    <tr>\n",
       "      <th>4</th>\n",
       "      <td>C:\\IDL_project\\Dataset\\HAM10000_images_part_2\\...</td>\n",
       "      <td>bkl</td>\n",
       "    </tr>\n",
       "  </tbody>\n",
       "</table>\n",
       "</div>"
      ],
      "text/plain": [
       "                                           ImagePath Type\n",
       "0  C:\\IDL_project\\Dataset\\HAM10000_images_part_1\\...  bkl\n",
       "1  C:\\IDL_project\\Dataset\\HAM10000_images_part_1\\...  bkl\n",
       "2  C:\\IDL_project\\Dataset\\HAM10000_images_part_1\\...  bkl\n",
       "3  C:\\IDL_project\\Dataset\\HAM10000_images_part_1\\...  bkl\n",
       "4  C:\\IDL_project\\Dataset\\HAM10000_images_part_2\\...  bkl"
      ]
     },
     "execution_count": 4,
     "metadata": {},
     "output_type": "execute_result"
    }
   ],
   "source": [
    "df.head()"
   ]
  },
  {
   "cell_type": "code",
   "execution_count": 5,
   "metadata": {},
   "outputs": [
    {
     "data": {
      "text/plain": [
       "Type\n",
       "nv       6705\n",
       "mel      1113\n",
       "bkl      1099\n",
       "bcc       514\n",
       "akiec     327\n",
       "vasc      142\n",
       "df        115\n",
       "Name: count, dtype: int64"
      ]
     },
     "execution_count": 5,
     "metadata": {},
     "output_type": "execute_result"
    }
   ],
   "source": [
    "df['Type'].value_counts()"
   ]
  },
  {
   "cell_type": "code",
   "execution_count": 6,
   "metadata": {},
   "outputs": [
    {
     "name": "stdout",
     "output_type": "stream",
     "text": [
      "Train size: 8012, Test size: 2003\n"
     ]
    }
   ],
   "source": [
    "from sklearn.model_selection import train_test_split\n",
    "\n",
    "train_df, test_df = train_test_split(df, test_size=0.2, stratify=df[\"Type\"], random_state=42)\n",
    "\n",
    "# Save the splits\n",
    "train_df.to_csv(\"train_data.csv\", index=False)\n",
    "test_df.to_csv(\"test_data.csv\", index=False)\n",
    "\n",
    "print(f\"Train size: {len(train_df)}, Test size: {len(test_df)}\")"
   ]
  },
  {
   "cell_type": "code",
   "execution_count": 7,
   "metadata": {},
   "outputs": [
    {
     "data": {
      "text/plain": [
       "Type\n",
       "nv       5364\n",
       "mel       890\n",
       "bkl       879\n",
       "bcc       411\n",
       "akiec     262\n",
       "vasc      114\n",
       "df         92\n",
       "Name: count, dtype: int64"
      ]
     },
     "execution_count": 7,
     "metadata": {},
     "output_type": "execute_result"
    }
   ],
   "source": [
    "train_df['Type'].value_counts()"
   ]
  },
  {
   "cell_type": "code",
   "execution_count": 8,
   "metadata": {},
   "outputs": [
    {
     "name": "stdout",
     "output_type": "stream",
     "text": [
      "Type\n",
      "nv       5364\n",
      "mel      1780\n",
      "bkl       879\n",
      "bcc       411\n",
      "akiec     262\n",
      "vasc      114\n",
      "df         92\n",
      "Name: count, dtype: int64\n"
     ]
    }
   ],
   "source": [
    "import os\n",
    "import cv2\n",
    "import pandas as pd\n",
    "import albumentations as A\n",
    "\n",
    "# Define augmentation\n",
    "transform = A.Compose([\n",
    "    A.Rotate(limit=30, p=1.0),\n",
    "    A.RandomBrightnessContrast(p=1.0),\n",
    "    A.HorizontalFlip(p=1.0),\n",
    "])\n",
    "\n",
    "# Create folder for augmented images\n",
    "augmented_folder = \"C:\\\\IDL_project\\\\Dataset\\\\TrainAugmented\\\\mel\"\n",
    "os.makedirs(augmented_folder, exist_ok=True)\n",
    "\n",
    "# Store new rows to append later\n",
    "new_rows = []\n",
    "\n",
    "# Loop through each image with label \"mel\"\n",
    "for _, row in train_df[train_df[\"Type\"] == \"mel\"].iterrows():\n",
    "    img_path = row[\"ImagePath\"]\n",
    "    img = cv2.imread(img_path)\n",
    "    \n",
    "    if img is None:\n",
    "        continue  # Skip if image not found\n",
    "\n",
    "    # Augment once\n",
    "    augmented = transform(image=img)[\"image\"]\n",
    "    new_img_name = f\"{os.path.basename(img_path).split('.')[0]}_aug.jpg\"\n",
    "    new_img_path = os.path.join(augmented_folder, new_img_name)\n",
    "    cv2.imwrite(new_img_path, augmented)\n",
    "\n",
    "    # Store new row\n",
    "    new_rows.append({\"ImagePath\": new_img_path, \"Type\": \"mel\"})\n",
    "\n",
    "new_df = pd.DataFrame(new_rows)\n",
    "train_df = pd.concat([train_df, new_df], ignore_index=True)\n",
    "\n",
    "# Print the updated count\n",
    "print(train_df[\"Type\"].value_counts())\n"
   ]
  },
  {
   "cell_type": "code",
   "execution_count": 9,
   "metadata": {},
   "outputs": [
    {
     "data": {
      "text/plain": [
       "Type\n",
       "nv       5364\n",
       "mel      1780\n",
       "bkl       879\n",
       "bcc       411\n",
       "akiec     262\n",
       "vasc      114\n",
       "df         92\n",
       "Name: count, dtype: int64"
      ]
     },
     "execution_count": 9,
     "metadata": {},
     "output_type": "execute_result"
    }
   ],
   "source": [
    "train_df['Type'].value_counts()"
   ]
  },
  {
   "cell_type": "code",
   "execution_count": 10,
   "metadata": {},
   "outputs": [
    {
     "name": "stdout",
     "output_type": "stream",
     "text": [
      "Type\n",
      "nv       5364\n",
      "mel      1780\n",
      "bcc      1233\n",
      "bkl       879\n",
      "akiec     262\n",
      "vasc      114\n",
      "df         92\n",
      "Name: count, dtype: int64\n"
     ]
    }
   ],
   "source": [
    "import os\n",
    "import cv2\n",
    "import pandas as pd\n",
    "import albumentations as A\n",
    "\n",
    "# Define augmentation\n",
    "transform = A.Compose([\n",
    "    A.Rotate(limit=30, p=1.0),\n",
    "    A.RandomBrightnessContrast(p=1.0),\n",
    "    A.HorizontalFlip(p=1.0),\n",
    "])\n",
    "\n",
    "# Create folder for augmented images\n",
    "augmented_folder = \"C:\\\\IDL_project\\\\Dataset\\\\TrainAugmented\\\\bcc\"\n",
    "os.makedirs(augmented_folder, exist_ok=True)\n",
    "\n",
    "# Store new rows to append later\n",
    "new_rows = []\n",
    "\n",
    "# Loop through each image with label \"mel\"\n",
    "for _, row in train_df[train_df[\"Type\"] == \"bcc\"].iterrows():\n",
    "    img_path = row[\"ImagePath\"]\n",
    "    img = cv2.imread(img_path)\n",
    "    \n",
    "    if img is None:\n",
    "        continue  # Skip if image not found\n",
    "\n",
    "    # Augment twice to triple total data\n",
    "    for i in range(2):  \n",
    "        augmented = transform(image=img)[\"image\"]\n",
    "        new_img_name = f\"{os.path.basename(img_path).split('.')[0]}_aug{i+1}.jpg\"\n",
    "        new_img_path = os.path.join(augmented_folder, new_img_name)\n",
    "        cv2.imwrite(new_img_path, augmented)\n",
    "\n",
    "        # Store new row\n",
    "        new_rows.append({\"ImagePath\": new_img_path, \"Type\": \"bcc\"})\n",
    "\n",
    "# Convert new rows to DataFrame and concatenate\n",
    "new_df = pd.DataFrame(new_rows)\n",
    "train_df = pd.concat([train_df, new_df], ignore_index=True)\n",
    "\n",
    "# Print the updated count\n",
    "print(train_df[\"Type\"].value_counts())"
   ]
  },
  {
   "cell_type": "code",
   "execution_count": 11,
   "metadata": {},
   "outputs": [
    {
     "name": "stdout",
     "output_type": "stream",
     "text": [
      "Type\n",
      "nv       5364\n",
      "mel      1780\n",
      "akiec    1310\n",
      "bcc      1233\n",
      "bkl       879\n",
      "vasc      114\n",
      "df         92\n",
      "Name: count, dtype: int64\n"
     ]
    }
   ],
   "source": [
    "import os\n",
    "import cv2\n",
    "import pandas as pd\n",
    "import albumentations as A\n",
    "\n",
    "# Define augmentation\n",
    "transform = A.Compose([\n",
    "    A.Rotate(limit=30, p=1.0),\n",
    "    A.RandomBrightnessContrast(p=1.0),\n",
    "    A.HorizontalFlip(p=1.0),\n",
    "])\n",
    "\n",
    "# Create folder for augmented images\n",
    "augmented_folder = \"C:\\\\IDL_project\\\\Dataset\\\\TrainAugmented\\\\akiec\"\n",
    "os.makedirs(augmented_folder, exist_ok=True)\n",
    "\n",
    "# Store new rows to append later\n",
    "new_rows = []\n",
    "\n",
    "# Loop through each image with label \"mel\"\n",
    "for _, row in train_df[train_df[\"Type\"] == \"akiec\"].iterrows():\n",
    "    img_path = row[\"ImagePath\"]\n",
    "    img = cv2.imread(img_path)\n",
    "    \n",
    "    if img is None:\n",
    "        continue  # Skip if image not found\n",
    "\n",
    "    # Augment twice to triple total data\n",
    "    for i in range(4):  \n",
    "        augmented = transform(image=img)[\"image\"]\n",
    "        new_img_name = f\"{os.path.basename(img_path).split('.')[0]}_aug{i+1}.jpg\"\n",
    "        new_img_path = os.path.join(augmented_folder, new_img_name)\n",
    "        cv2.imwrite(new_img_path, augmented)\n",
    "\n",
    "        # Store new row\n",
    "        new_rows.append({\"ImagePath\": new_img_path, \"Type\": \"akiec\"})\n",
    "\n",
    "# Convert new rows to DataFrame and concatenate\n",
    "new_df = pd.DataFrame(new_rows)\n",
    "train_df = pd.concat([train_df, new_df], ignore_index=True)\n",
    "\n",
    "# Print the updated count\n",
    "print(train_df[\"Type\"].value_counts())"
   ]
  },
  {
   "cell_type": "code",
   "execution_count": 14,
   "metadata": {},
   "outputs": [],
   "source": [
    "train_df.to_csv(\"upscaled_train_data.csv\", index=False)"
   ]
  },
  {
   "cell_type": "code",
   "execution_count": 12,
   "metadata": {},
   "outputs": [
    {
     "data": {
      "text/plain": [
       "(10772, 2)"
      ]
     },
     "execution_count": 12,
     "metadata": {},
     "output_type": "execute_result"
    }
   ],
   "source": [
    "train_df.shape"
   ]
  },
  {
   "cell_type": "code",
   "execution_count": 15,
   "metadata": {},
   "outputs": [],
   "source": [
    "# Mapping the labels to binary classification\n",
    "binary_mapping = {\n",
    "    \"nv\": 0,  # Benign\n",
    "    \"bkl\": 0,  # Benign\n",
    "    \"vasc\": 0,  # Benign\n",
    "    \"df\": 0,  # Benign\n",
    "    \"mel\": 1,  # Malignant\n",
    "    \"akiec\": 1,  # Malignant\n",
    "    \"bcc\": 1   # Malignant\n",
    "}\n",
    "\n",
    "# Apply the mapping\n",
    "train_df[\"BinaryType\"] = train_df[\"Type\"].map(binary_mapping)\n",
    "test_df[\"BinaryType\"] = test_df[\"Type\"].map(binary_mapping)\n",
    "\n",
    "# Drop the old \"Type\" column if you no longer need it\n",
    "train_df = train_df.drop(columns=[\"Type\"])\n",
    "test_df = test_df.drop(columns=[\"Type\"])"
   ]
  },
  {
   "cell_type": "code",
   "execution_count": 16,
   "metadata": {},
   "outputs": [
    {
     "data": {
      "text/html": [
       "<div>\n",
       "<style scoped>\n",
       "    .dataframe tbody tr th:only-of-type {\n",
       "        vertical-align: middle;\n",
       "    }\n",
       "\n",
       "    .dataframe tbody tr th {\n",
       "        vertical-align: top;\n",
       "    }\n",
       "\n",
       "    .dataframe thead th {\n",
       "        text-align: right;\n",
       "    }\n",
       "</style>\n",
       "<table border=\"1\" class=\"dataframe\">\n",
       "  <thead>\n",
       "    <tr style=\"text-align: right;\">\n",
       "      <th></th>\n",
       "      <th>ImagePath</th>\n",
       "      <th>BinaryType</th>\n",
       "    </tr>\n",
       "  </thead>\n",
       "  <tbody>\n",
       "    <tr>\n",
       "      <th>0</th>\n",
       "      <td>C:\\IDL_project\\Dataset\\HAM10000_images_part_2\\...</td>\n",
       "      <td>0</td>\n",
       "    </tr>\n",
       "    <tr>\n",
       "      <th>1</th>\n",
       "      <td>C:\\IDL_project\\Dataset\\HAM10000_images_part_2\\...</td>\n",
       "      <td>0</td>\n",
       "    </tr>\n",
       "    <tr>\n",
       "      <th>2</th>\n",
       "      <td>C:\\IDL_project\\Dataset\\HAM10000_images_part_1\\...</td>\n",
       "      <td>1</td>\n",
       "    </tr>\n",
       "    <tr>\n",
       "      <th>3</th>\n",
       "      <td>C:\\IDL_project\\Dataset\\HAM10000_images_part_1\\...</td>\n",
       "      <td>0</td>\n",
       "    </tr>\n",
       "    <tr>\n",
       "      <th>4</th>\n",
       "      <td>C:\\IDL_project\\Dataset\\HAM10000_images_part_2\\...</td>\n",
       "      <td>0</td>\n",
       "    </tr>\n",
       "  </tbody>\n",
       "</table>\n",
       "</div>"
      ],
      "text/plain": [
       "                                           ImagePath  BinaryType\n",
       "0  C:\\IDL_project\\Dataset\\HAM10000_images_part_2\\...           0\n",
       "1  C:\\IDL_project\\Dataset\\HAM10000_images_part_2\\...           0\n",
       "2  C:\\IDL_project\\Dataset\\HAM10000_images_part_1\\...           1\n",
       "3  C:\\IDL_project\\Dataset\\HAM10000_images_part_1\\...           0\n",
       "4  C:\\IDL_project\\Dataset\\HAM10000_images_part_2\\...           0"
      ]
     },
     "execution_count": 16,
     "metadata": {},
     "output_type": "execute_result"
    }
   ],
   "source": [
    "train_df.head()"
   ]
  },
  {
   "cell_type": "code",
   "execution_count": 17,
   "metadata": {},
   "outputs": [
    {
     "data": {
      "text/plain": [
       "BinaryType\n",
       "0    6449\n",
       "1    4323\n",
       "Name: count, dtype: int64"
      ]
     },
     "execution_count": 17,
     "metadata": {},
     "output_type": "execute_result"
    }
   ],
   "source": [
    "train_df['BinaryType'].value_counts()"
   ]
  },
  {
   "cell_type": "code",
   "execution_count": 18,
   "metadata": {},
   "outputs": [],
   "source": [
    "train_df.to_csv(\"final_train_data.csv\", index=False)\n",
    "test_df.to_csv(\"final_test_data.csv\", index=False)"
   ]
  },
  {
   "cell_type": "code",
   "execution_count": 19,
   "metadata": {},
   "outputs": [
    {
     "data": {
      "text/plain": [
       "BinaryType\n",
       "0    1612\n",
       "1     391\n",
       "Name: count, dtype: int64"
      ]
     },
     "execution_count": 19,
     "metadata": {},
     "output_type": "execute_result"
    }
   ],
   "source": [
    "test_df['BinaryType'].value_counts()"
   ]
  },
  {
   "cell_type": "code",
   "execution_count": null,
   "metadata": {},
   "outputs": [],
   "source": []
  }
 ],
 "metadata": {
  "kernelspec": {
   "display_name": "base",
   "language": "python",
   "name": "python3"
  },
  "language_info": {
   "codemirror_mode": {
    "name": "ipython",
    "version": 3
   },
   "file_extension": ".py",
   "mimetype": "text/x-python",
   "name": "python",
   "nbconvert_exporter": "python",
   "pygments_lexer": "ipython3",
   "version": "3.12.3"
  }
 },
 "nbformat": 4,
 "nbformat_minor": 2
}
